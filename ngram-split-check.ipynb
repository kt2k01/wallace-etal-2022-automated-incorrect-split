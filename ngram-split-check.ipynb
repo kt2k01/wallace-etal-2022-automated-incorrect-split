{
 "cells": [
  {
   "cell_type": "markdown",
   "id": "a274f784-b93f-4f59-967b-63e47adc9588",
   "metadata": {},
   "source": [
    "### Import libraries"
   ]
  },
  {
   "cell_type": "code",
   "execution_count": 1,
   "id": "40281fb3-ccb6-4a31-b6ec-36be7e5d42b9",
   "metadata": {},
   "outputs": [],
   "source": [
    "import json\n",
    "import requests\n",
    "import time\n",
    "import csv\n",
    "from tqdm import tqdm"
   ]
  },
  {
   "cell_type": "markdown",
   "id": "66ce4ede-fcc6-427e-9ed2-db6dce0cb2a8",
   "metadata": {},
   "source": [
    "### Load dataset"
   ]
  },
  {
   "cell_type": "markdown",
   "id": "f92ac322-162f-44fc-9798-dd9849003376",
   "metadata": {},
   "source": [
    "The data is downloaded from https://huggingface.co/datasets/albertxu/CrosswordQA/tree/main."
   ]
  },
  {
   "cell_type": "code",
   "execution_count": 2,
   "id": "d5716336-8577-4a4d-9c11-2a7c999ab8fc",
   "metadata": {},
   "outputs": [
    {
     "name": "stderr",
     "output_type": "stream",
     "text": [
      "6420790it [00:11, 535958.75it/s]\n"
     ]
    }
   ],
   "source": [
    "all_answers = []\n",
    "\n",
    "with open('train.csv', 'r', newline='\\n') as f:\n",
    "    reader = csv.DictReader(f)\n",
    "    for row in tqdm(reader):\n",
    "        all_answers.append(row['answer'])"
   ]
  },
  {
   "cell_type": "code",
   "execution_count": 3,
   "id": "ccd018e5-6e7b-439c-8bfa-53548e2c8f9b",
   "metadata": {},
   "outputs": [],
   "source": [
    "diff_answers = list(set(all_answers))\n",
    "\n",
    "diff_lengths = [len(a.split(' ')) for a in diff_answers]"
   ]
  },
  {
   "cell_type": "code",
   "execution_count": 4,
   "id": "15947676-ba77-4b35-bec5-683883d2c0a3",
   "metadata": {},
   "outputs": [
    {
     "name": "stdout",
     "output_type": "stream",
     "text": [
      "[0, 202286, 194293, 31784, 8157, 1079, 109, 14]\n"
     ]
    }
   ],
   "source": [
    "num_of_len = [0 for _ in range(max(diff_lengths)+1)]\n",
    "\n",
    "# the api does not accept phrases longer than 5 words\n",
    "long_len = 5\n",
    "long_answers = []\n",
    "\n",
    "for i, l in enumerate(diff_lengths):\n",
    "    num_of_len[l] += 1\n",
    "    if l == long_len:\n",
    "        long_answers.append(diff_answers[i])\n",
    "    \n",
    "print(num_of_len)"
   ]
  },
  {
   "cell_type": "markdown",
   "id": "612fa3a8-da5e-4b73-b23f-36277303d7a3",
   "metadata": {},
   "source": [
    "### Preview the long answers"
   ]
  },
  {
   "cell_type": "markdown",
   "id": "1f44b309-732c-4de0-8f40-d120134f3f60",
   "metadata": {},
   "source": [
    "Some spelling errors immediately appear. For example, common words are not split when they should be. This is different from the intuition provided in the paper, that split is more difficult for less common words."
   ]
  },
  {
   "cell_type": "code",
   "execution_count": 5,
   "id": "c5db01ae-ddfb-40ca-96ac-ee8e187fed10",
   "metadata": {},
   "outputs": [
    {
     "data": {
      "text/plain": [
       "['as steady as a rock',\n",
       " 'i think therefore i am',\n",
       " 'how did you do that',\n",
       " 'too good to be true',\n",
       " 'your ownside of the bed',\n",
       " 'the ballad of reading Gaol',\n",
       " 'will you be my wife',\n",
       " 'we have is the room',\n",
       " 'they say you should live',\n",
       " 'it is not the work']"
      ]
     },
     "execution_count": 5,
     "metadata": {},
     "output_type": "execute_result"
    }
   ],
   "source": [
    "long_answers[:10]"
   ]
  },
  {
   "cell_type": "markdown",
   "id": "49c6b869-82d8-4387-a1a3-3d929d1976da",
   "metadata": {},
   "source": [
    "### Use the Google Books ngram API to get the list of probablities"
   ]
  },
  {
   "cell_type": "code",
   "execution_count": 6,
   "id": "fca76af8-118a-4691-a667-f474b08f5b57",
   "metadata": {},
   "outputs": [],
   "source": [
    "def get_probs(phrase):\n",
    "    try:\n",
    "        res = requests.get((\"https://books.google.com/ngrams/json?\"\n",
    "                            f\"content={phrase.replace(' ', '+')}&\"\n",
    "                            \"year_start=1800&year_end=2019&\"\n",
    "                            \"case_insensitive=true\"))\n",
    "        j = res.json()\n",
    "    except:\n",
    "        print(f\"Request for \\\"{phrase}\\\" failed!\")\n",
    "    else:\n",
    "        if len(j):\n",
    "            return j[0]['timeseries']\n",
    "        else:\n",
    "            return []"
   ]
  },
  {
   "cell_type": "code",
   "execution_count": 7,
   "id": "e0d7cb5a-5e93-418a-b4b3-446e09904d1f",
   "metadata": {},
   "outputs": [
    {
     "name": "stderr",
     "output_type": "stream",
     "text": [
      "100%|██████████| 200/200 [05:24<00:00,  1.62s/it]"
     ]
    },
    {
     "name": "stdout",
     "output_type": "stream",
     "text": [
      "['your ownside of the bed', 'we have is the room', 'they say you should live', 'as it has no blade', 'the catcher in the eggnog', 'then windup in the hole', 'they do when i hitthesack', 'the coldman and the sea', 'runs out of thy me', 'eat out to help out', 'chemist who was reading a', 'fish and chips and dip', 'best speeches of all time', 'all down on the job', 'claps of the roman empire', 'and he will stick his', 'a room with a viewing', 'idont know the key to', 'the belle of the brawl', 'ounce in a blue moon', 'ill have a cold one', 'not just a pretty cafe', 'the flit of the bumblebee', 'springs already at the gate', 'they say the chemicals in', 'a hand in the bird', 'was admitted as new crime', 'titans of comfort and joy', 'to the best of onesbelief', 'the art of her deal', 'says she can stopany time', 'it is the next note', 'Noble Stroman of the mall', 'a day in the ussr', 'and badnews about the car', 'rosesdie and that is that', 'with onesnose in the air', 'shed by how much i', 'the romaines of the day', 'the bestway to make a', 'better we used to be', 'hecame down with a cold', 'heres looking at you kid', 'serve beer to a moose', 'work of a british historian', 'down and out and about', 'its still in pretty good', 'to stayinan area of a', 'the day of the jacko', 'pull coinsout of the air', 'done it that way it', 'lets be careful out there', 'why might an inmate have', 'in the society for strong', 'otidings of comfort and joy', 'all the kingsmen in white', 'the altar of the deadzone', 'by deceit of her pants', 'if i were a richman', 'when people who are pros', 'item that is a perfect', 'two good to be true', 'in the time of nick', 'puzzle gridTRY to find it', 'i grant you another wish', 'ionly have eyes for you', 'the best measure of amans', 'lay it on the lino', 'back to the future tense', 'the glow from my phone']\n"
     ]
    },
    {
     "name": "stderr",
     "output_type": "stream",
     "text": [
      "\n"
     ]
    }
   ],
   "source": [
    "possible_missplit = []\n",
    "\n",
    "for a in tqdm(long_answers[:200]):\n",
    "    time.sleep(1)\n",
    "    if not get_probs(a):\n",
    "        possible_missplit.append(a)\n",
    "        \n",
    "print(possible_missplit)"
   ]
  },
  {
   "cell_type": "markdown",
   "id": "d07ecc96-d1c4-4dc0-9fc8-6cc8f0f642d0",
   "metadata": {},
   "source": [
    "There are at least three reasons to the missplits shown above:\n",
    "- Common words are not split.\n",
    "- Misspelled words.\n",
    "- The omission of the apostrophe.\n",
    "\n",
    "At least we see that the proposed segmenter in the paper has its counterintuitive weakness, which is the failure on splitting common words. However, it seems that many phrases returned above are not missplits, indicating my heuristic is also not good enough. These phrases do not appear in the corpus simply because 5-grams have the sparsity issue. Maybe results will change for bigrams or trigrams. Missplits should also appear in the list of unigrams, but the full list is too long to go over by the API."
   ]
  },
  {
   "cell_type": "code",
   "execution_count": null,
   "id": "657227a0-fb5e-44eb-a1ef-ab20949e7391",
   "metadata": {},
   "outputs": [],
   "source": []
  }
 ],
 "metadata": {
  "kernelspec": {
   "display_name": "Python 3",
   "language": "python",
   "name": "python3"
  },
  "language_info": {
   "codemirror_mode": {
    "name": "ipython",
    "version": 3
   },
   "file_extension": ".py",
   "mimetype": "text/x-python",
   "name": "python",
   "nbconvert_exporter": "python",
   "pygments_lexer": "ipython3",
   "version": "3.8.8"
  }
 },
 "nbformat": 4,
 "nbformat_minor": 5
}
